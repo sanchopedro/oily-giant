{
 "cells": [
  {
   "cell_type": "markdown",
   "metadata": {},
   "source": [
    "# OilyGiant\n",
    "\n",
    "## Visão do Projeto\n",
    "\n",
    "Você trabalha na empresa de mineração OilyGiant. Sua tarefa é encontrar os melhores lugares para o **desenvolvimento de novos poços de petróleo**.\n",
    "\n",
    "Para concluir essa tarefa, você vai precisar executar as seguintes etapas:\n",
    "\n",
    "- Ler os arquivos com parâmetros coletados de poços de petróleo na região selecionada: a quantidade de petróleo e o volume de reservas;\n",
    "\n",
    "- Construir um modelo para predizer o volume de reservas em novos poços;\n",
    "\n",
    "- Escolher os poços de petróleo que têm os maiores valores estimados;\n",
    "\n",
    "- Escolher a região com o maior lucro total para os poços de petróleo selecionados.\n",
    "\n",
    "Você tem dados sobre amostras de petróleo de três regiões. Os parâmetros de cada poço de petróleo na região já são conhecidos. Construa um modelo que te ajudará a escolher a região com a margem de lucro mais alta. Utilize a técnica de Bootstrapping para analisar lucro potencial e riscos.\n",
    "\n",
    "---"
   ]
  },
  {
   "cell_type": "markdown",
   "metadata": {},
   "source": [
    "# 1. INICIALIZAÇÃO"
   ]
  },
  {
   "cell_type": "markdown",
   "metadata": {},
   "source": [
    "# 1.1 Importando Bibliotecas"
   ]
  },
  {
   "cell_type": "code",
   "execution_count": 1,
   "metadata": {},
   "outputs": [],
   "source": [
    "import pandas as pd\n",
    "import numpy as np\n",
    "\n",
    "# Divisào do dataset\n",
    "from sklearn.model_selection import train_test_split\n",
    "\n",
    "# Modelo\n",
    "from sklearn.linear_model import LinearRegression\n",
    "\n",
    "# Metricas\n",
    "from sklearn.metrics import mean_squared_error\n",
    "\n",
    "# Pipeline\n",
    "from sklearn.pipeline import Pipeline\n",
    "\n",
    "# Column Transformer\n",
    "from sklearn.compose import ColumnTransformer\n",
    "\n",
    "# Pre processamento\n",
    "from sklearn.preprocessing import StandardScaler"
   ]
  },
  {
   "cell_type": "markdown",
   "metadata": {},
   "source": [
    "## 1.2 Carregando Dataset"
   ]
  },
  {
   "cell_type": "code",
   "execution_count": null,
   "metadata": {},
   "outputs": [],
   "source": [
    "# Carregue os arquivos de dados em diferentes DataFrames\n",
    "\n",
    "# Local Path\n",
    "local_geo_0_path = \"geo_data_0.csv\"\n",
    "local_geo_1_path = \"geo_data_1.csv\"\n",
    "local_geo_2_path = \"geo_data_2.csv\"\n",
    "\n",
    "# Cloud Path\n",
    "geo_0_path = \"/datasets/geo_data_0.csv\"\n",
    "geo_1_path = \"/datasets/geo_data_1.csv\"\n",
    "geo_2_path = \"/datasets/geo_data_2.csv\"\n",
    "\n",
    "try:\n",
    "    geo_0 = pd.read_csv(local_geo_0_path, sep=\",\")\n",
    "    geo_1 = pd.read_csv(local_geo_1_path, sep=\",\")\n",
    "    geo_2 = pd.read_csv(local_geo_2_path, sep=\",\")\n",
    "\n",
    "except FileNotFoundError:\n",
    "    print(\n",
    "        f\"O arquivo CSV não foi encontrado em {local_geo_0_path}. Tentando o caminho {geo_0_path}...\"\n",
    "    )\n",
    "\n",
    "    print(\n",
    "        f\"O arquivo CSV não foi encontrado em {local_geo_1_path}. Tentando o caminho {geo_1_path}...\"\n",
    "    )\n",
    "\n",
    "    print(\n",
    "        f\"O arquivo CSV não foi encontrado em {local_geo_2_path}. Tentando o caminho {geo_2_path}...\"\n",
    "    )\n",
    "\n",
    "    try:\n",
    "        geo_0 = pd.read_csv(geo_0_path, sep=\",\")\n",
    "        geo_1 = pd.read_csv(geo_1_path, sep=\",\")\n",
    "        geo_2 = pd.read_csv(geo_2_path, sep=\",\")\n",
    "\n",
    "    except FileNotFoundError:\n",
    "        print(\n",
    "            f\"O arquivo CSV não foi encontrado em {geo_0_path}. Nenhum arquivo encontrado.\"\n",
    "        )\n",
    "\n",
    "        print(\n",
    "            f\"O arquivo CSV não foi encontrado em {geo_1_path}. Nenhum arquivo encontrado.\"\n",
    "        )\n",
    "\n",
    "        print(\n",
    "            f\"O arquivo CSV não foi encontrado em {geo_2_path}. Nenhum arquivo encontrado.\"\n",
    "        )"
   ]
  },
  {
   "cell_type": "code",
   "execution_count": null,
   "metadata": {},
   "outputs": [],
   "source": [
    "# Checando se DataFrame foi importado\n",
    "geo_0.head()"
   ]
  },
  {
   "cell_type": "code",
   "execution_count": null,
   "metadata": {},
   "outputs": [],
   "source": [
    "# Checando se DataFrame foi importado\n",
    "geo_1.head()"
   ]
  },
  {
   "cell_type": "code",
   "execution_count": null,
   "metadata": {},
   "outputs": [],
   "source": [
    "# Checando se DataFrame foi importado\n",
    "geo_2.head()"
   ]
  },
  {
   "cell_type": "markdown",
   "metadata": {},
   "source": [
    "## 1.3 Analisando os Dados"
   ]
  },
  {
   "cell_type": "markdown",
   "metadata": {},
   "source": [
    "#### 1.3.1 Dataset: geo_0"
   ]
  },
  {
   "cell_type": "code",
   "execution_count": null,
   "metadata": {},
   "outputs": [],
   "source": [
    "# dtypes dos dados\n",
    "geo_0.dtypes"
   ]
  },
  {
   "cell_type": "code",
   "execution_count": null,
   "metadata": {},
   "outputs": [],
   "source": [
    "# Info dos dados\n",
    "geo_0.info()"
   ]
  },
  {
   "cell_type": "code",
   "execution_count": null,
   "metadata": {},
   "outputs": [],
   "source": [
    "# Checando dados faltosos\n",
    "geo_0.isna().sum()"
   ]
  },
  {
   "cell_type": "code",
   "execution_count": null,
   "metadata": {},
   "outputs": [],
   "source": [
    "# Checando duplicados\n",
    "geo_0.duplicated().sum()"
   ]
  },
  {
   "cell_type": "code",
   "execution_count": null,
   "metadata": {},
   "outputs": [],
   "source": [
    "# Describe dos dados\n",
    "geo_0.describe()"
   ]
  },
  {
   "cell_type": "markdown",
   "metadata": {},
   "source": [
    "- O dataset geo_0 não apresenta nenhuma inconformidade. Os dados estão prontos para serem utilizados."
   ]
  },
  {
   "cell_type": "markdown",
   "metadata": {},
   "source": [
    "#### 1.3.2 Dataset: geo_1"
   ]
  },
  {
   "cell_type": "code",
   "execution_count": null,
   "metadata": {},
   "outputs": [],
   "source": [
    "# dtypes dos dados\n",
    "geo_1.dtypes"
   ]
  },
  {
   "cell_type": "code",
   "execution_count": null,
   "metadata": {},
   "outputs": [],
   "source": [
    "# Info dos dados\n",
    "geo_1.info()"
   ]
  },
  {
   "cell_type": "code",
   "execution_count": null,
   "metadata": {},
   "outputs": [],
   "source": [
    "# Checando dados faltosos\n",
    "geo_1.isna().sum()"
   ]
  },
  {
   "cell_type": "code",
   "execution_count": null,
   "metadata": {},
   "outputs": [],
   "source": [
    "# Checando duplicados\n",
    "geo_1.duplicated().sum()"
   ]
  },
  {
   "cell_type": "code",
   "execution_count": null,
   "metadata": {},
   "outputs": [],
   "source": [
    "# Describe dos dados\n",
    "geo_1.describe()"
   ]
  },
  {
   "cell_type": "markdown",
   "metadata": {},
   "source": [
    "- O dataset geo_1 não apresenta nenhuma inconformidade. Os dados estão prontos para serem utilizados."
   ]
  },
  {
   "cell_type": "markdown",
   "metadata": {},
   "source": [
    "#### 1.3.3 Dataset: geo_2"
   ]
  },
  {
   "cell_type": "code",
   "execution_count": null,
   "metadata": {},
   "outputs": [],
   "source": [
    "# dtypes dos dados\n",
    "geo_2.dtypes"
   ]
  },
  {
   "cell_type": "code",
   "execution_count": null,
   "metadata": {},
   "outputs": [],
   "source": [
    "# Info dos dados\n",
    "geo_2.info()"
   ]
  },
  {
   "cell_type": "code",
   "execution_count": null,
   "metadata": {},
   "outputs": [],
   "source": [
    "# Checando dados faltosos\n",
    "geo_2.isna().sum()"
   ]
  },
  {
   "cell_type": "code",
   "execution_count": null,
   "metadata": {},
   "outputs": [],
   "source": [
    "# Checando duplicados\n",
    "geo_2.duplicated().sum()"
   ]
  },
  {
   "cell_type": "code",
   "execution_count": null,
   "metadata": {},
   "outputs": [],
   "source": [
    "# Describe dos dados\n",
    "geo_2.describe()"
   ]
  },
  {
   "cell_type": "markdown",
   "metadata": {},
   "source": [
    "- O dataset geo_2 não apresenta nenhuma inconformidade. Os dados estão prontos para serem utilizados."
   ]
  },
  {
   "cell_type": "markdown",
   "metadata": {},
   "source": [
    "## 2. PREPARAÇÃO DO MODELO"
   ]
  },
  {
   "cell_type": "code",
   "execution_count": null,
   "metadata": {},
   "outputs": [],
   "source": [
    "def preprocess_train_model(df):\n",
    "    # Separando o dataset em traino e validação\n",
    "    train_data, valid_data = train_test_split(df, test_size=0.25, random_state=12345)\n",
    "\n",
    "    # Definir as features e target\n",
    "    features_train, target_train = (\n",
    "        train_data.drop([\"product\"], axis=1),\n",
    "        train_data[\"product\"],\n",
    "    )\n",
    "    features_valid, target_valid = (\n",
    "        valid_data.drop([\"product\"], axis=1),\n",
    "        valid_data[\"product\"],\n",
    "    )\n",
    "\n",
    "    # Criando pipeline de pre-processamento.\n",
    "    numeric_features = [\"f0\", \"f1\", \"f2\"]\n",
    "    numeric_transformer = Pipeline(steps=[(\"scaler\", StandardScaler())])\n",
    "    preprocessor = ColumnTransformer(\n",
    "        transformers=[(\"num\", numeric_transformer, numeric_features)]\n",
    "    )\n",
    "\n",
    "    model = Pipeline(\n",
    "        steps=[(\"preprocessor\", preprocessor), (\"regressor\", LinearRegression())]\n",
    "    )\n",
    "\n",
    "    # Treinar o modelo\n",
    "    model.fit(features_train, target_train)\n",
    "\n",
    "    # Predições no conjunto de validação\n",
    "    predictions = model.predict(features_valid)\n",
    "\n",
    "    # Salvar predições\n",
    "    results_df = pd.DataFrame({\"true_values\": target_valid, \"predicted\": predictions})\n",
    "\n",
    "    # Métricas de avaliação\n",
    "    avg_predicted_volume = predictions.mean()\n",
    "    rmse = mean_squared_error(target_valid, predictions, squared=False)\n",
    "\n",
    "    print(f\"Volume Médio Previsto: {avg_predicted_volume:.4f}\")\n",
    "    print(f\"REQM: {rmse:.4f}\")\n",
    "\n",
    "    return results_df"
   ]
  },
  {
   "cell_type": "code",
   "execution_count": null,
   "metadata": {},
   "outputs": [],
   "source": [
    "# Rodando o modelo para o dataset: geo_0\n",
    "results_0 = preprocess_train_model(geo_0)\n",
    "results_0"
   ]
  },
  {
   "cell_type": "markdown",
   "metadata": {},
   "source": [
    "- O volume médio de produção para a região 0 é de 92.5926 milhares de barris\n",
    "\n",
    "- Podemos ver que para o conjunto de dados de geo_0, temos um Root Mean Squared Error (REQM) igual à 37,5794. Isso indica que, em média, as predições do modelo têm um devio de aproximadamente 37,5794 milhares de barris em relação aos valores reais.\n",
    "\n",
    "Lembrando que quanto menor o valor do REQM, melhor o desempenho do modelo. Nesse caso, seria desejável ter um REQM mais baixo para indicar uma precisão maior nas predições do modelo de regressão linear."
   ]
  },
  {
   "cell_type": "code",
   "execution_count": null,
   "metadata": {},
   "outputs": [],
   "source": [
    "# Rodando o modelo para o dataset: geo_1\n",
    "results_1 = preprocess_train_model(geo_1)\n",
    "results_1"
   ]
  },
  {
   "cell_type": "markdown",
   "metadata": {},
   "source": [
    "- O volume médio de produção para a região 1 é de 68.7285 milhares de barris\n",
    "\n",
    "- Podemos ver que para o conjunto de dados de geo_01 temos um Root Mean Squared Error (REQM) igual à 0,8931. Isso indica que, em média, as predições do modelo têm um devio de aproximadamente 0,8931 milhares de barris em relação aos valores reais.\n",
    "\n",
    "Ou seja, o modelo prevê com muita precisão o volume de reservas no poço de petróleo."
   ]
  },
  {
   "cell_type": "code",
   "execution_count": null,
   "metadata": {},
   "outputs": [],
   "source": [
    "# Rodando o modelo para o dataset: geo_2\n",
    "results_2 = preprocess_train_model(geo_2)\n",
    "results_2"
   ]
  },
  {
   "cell_type": "markdown",
   "metadata": {},
   "source": [
    "- O volume médio de produção para a região 2 é de 94.9650 milhares de barris\n",
    "\n",
    "- Podemos ver que para o conjunto de dados de geo_2, temos um Root Mean Squared Error (REQM) igual à 40,0297. Isso indica que, em média, as predições do modelo têm um devio de aproximadamente 40,0297 milhares de barris em relação aos valores reais.\n",
    "\n",
    "Dentre os 3 conjuntos de dados (geo_0, geo_1 e geo_2), esse conjunto teve o maior desvio, em média, dos valores reais. "
   ]
  },
  {
   "cell_type": "markdown",
   "metadata": {},
   "source": [
    "## 3. CALCULANDO O LUCRO"
   ]
  },
  {
   "cell_type": "code",
   "execution_count": null,
   "metadata": {},
   "outputs": [],
   "source": [
    "# Valores necessários para calculo\n",
    "investment = 100000000\n",
    "revenue_per_unit = 4500\n",
    "required_units = 111.1\n",
    "\n",
    "# Calculo do volume médio necessário para evitar prejuízos\n",
    "volume_needed = investment / (revenue_per_unit * required_units)"
   ]
  },
  {
   "cell_type": "code",
   "execution_count": null,
   "metadata": {},
   "outputs": [],
   "source": [
    "# Valor médio de cada região\n",
    "avg_volume_0 = geo_0[\"product\"].mean()\n",
    "avg_volume_1 = geo_1[\"product\"].mean()\n",
    "avg_volume_2 = geo_2[\"product\"].mean()"
   ]
  },
  {
   "cell_type": "code",
   "execution_count": null,
   "metadata": {},
   "outputs": [],
   "source": [
    "print(f\"Volume Médio Necessário: {volume_needed:.4f}\")\n",
    "print(f\"Volume Médio da Região 0: {avg_volume_0:.4f}\")\n",
    "print(f\"Volume Médio da Região 1: {avg_volume_1:.4f}\")\n",
    "print(f\"Volume Médio da Região 2: {avg_volume_2:.4f}\")"
   ]
  },
  {
   "cell_type": "markdown",
   "metadata": {},
   "source": [
    "A região que tem o maior volume de produção é a região 2, seguida da região 0 e por fim a região 1."
   ]
  },
  {
   "cell_type": "markdown",
   "metadata": {},
   "source": [
    "## 4. FUNÇÃO PARA CALCULAR O LUCRO DE UM CONJUNTO DE DADOS"
   ]
  },
  {
   "cell_type": "code",
   "execution_count": null,
   "metadata": {},
   "outputs": [],
   "source": [
    "def calculate_profit(selected_wells, predictions):\n",
    "    # Selecionando os 200 poços com os valores mais altos previstos\n",
    "    selected_wells = predictions.nlargest(200, \"predicted\")\n",
    "\n",
    "    # Soma do volume de reservas\n",
    "    target_volume = selected_wells[\"true_values\"].sum()\n",
    "\n",
    "    # Calculo do lucro\n",
    "    profit = target_volume * revenue_per_unit - investment\n",
    "\n",
    "    return profit"
   ]
  },
  {
   "cell_type": "code",
   "execution_count": null,
   "metadata": {},
   "outputs": [],
   "source": [
    "# Calcular lucro potencial para região 0\n",
    "profit_0 = calculate_profit(geo_0, results_0)\n",
    "profit_0"
   ]
  },
  {
   "cell_type": "code",
   "execution_count": null,
   "metadata": {},
   "outputs": [],
   "source": [
    "# Calcular lucro potencial para região 1\n",
    "profit_1 = calculate_profit(geo_1, results_1)\n",
    "profit_1"
   ]
  },
  {
   "cell_type": "code",
   "execution_count": null,
   "metadata": {},
   "outputs": [],
   "source": [
    "# Calcular lucro potencial para região 2\n",
    "profit_2 = calculate_profit(geo_2, results_2)\n",
    "profit_2"
   ]
  },
  {
   "cell_type": "code",
   "execution_count": null,
   "metadata": {},
   "outputs": [],
   "source": [
    "# Apresentar conclusões sobre lucro potencial\n",
    "print(f\"Lucro Potencial Região 0: {profit_0:.2f}\")\n",
    "print(f\"Lucro Potencial Região 1: {profit_1:.2f}\")\n",
    "print(f\"Lucro Potencial Região 2: {profit_2:.2f}\")"
   ]
  },
  {
   "cell_type": "markdown",
   "metadata": {},
   "source": [
    "- Região 0: O lucro potencial estimado para a região 0 é de aproximadamente 33.2 milhões.\n",
    "- Região 1: Para a região 1, o lucro potencial é cerca de 24.2 milhões.\n",
    "- Região 2: O lucro potencial estimado para a região 2 é em torno de 27.1 milhões."
   ]
  },
  {
   "cell_type": "markdown",
   "metadata": {},
   "source": [
    "### 5. CALCULANDO RISCOS E LUCROS PARA CADA REGIÃO"
   ]
  },
  {
   "cell_type": "code",
   "execution_count": null,
   "metadata": {},
   "outputs": [],
   "source": [
    "def calculate_bootstrap(data, predictions, iterations=1000):\n",
    "    state = np.random.RandomState(12345)\n",
    "    profits = []\n",
    "\n",
    "    for i in range(iterations):\n",
    "        # Amostrar com reposição\n",
    "        sampled_size = min(len(data), len(predictions))\n",
    "        sampled_data = data.sample(n=sampled_size, replace=True, random_state=state)\n",
    "\n",
    "        # Verificar se os tamanhos dos DataFrames são iguais\n",
    "        if len(sampled_data) == len(predictions):\n",
    "            # Usar índices numéricos com iloc\n",
    "            sampled_data.reset_index(drop=True, inplace=True)\n",
    "            sampled_predictions = predictions.reset_index(drop=True).iloc[\n",
    "                sampled_data.index\n",
    "            ]\n",
    "\n",
    "            # Calcular lucro potencial para a amostra\n",
    "            profit = calculate_profit(sampled_data, sampled_predictions)\n",
    "            profits.append(profit)\n",
    "        else:\n",
    "            print(\"Tamanhos diferentes entre sampled_data e predictions.\")\n",
    "\n",
    "    mean_profit = np.mean(profits)\n",
    "    ci_lower, ci_upper = np.percentile(profits, [2.5, 97.5])\n",
    "    risk_of_loss = np.mean(np.array(profits) < 0) * 100\n",
    "\n",
    "    return mean_profit, ci_lower, ci_upper, risk_of_loss"
   ]
  },
  {
   "cell_type": "code",
   "execution_count": null,
   "metadata": {},
   "outputs": [],
   "source": [
    "# Calcular para cada região\n",
    "bootstrap_results_0 = calculate_bootstrap(geo_0, results_0)\n",
    "bootstrap_results_1 = calculate_bootstrap(geo_1, results_1)\n",
    "bootstrap_results_2 = calculate_bootstrap(geo_2, results_2)"
   ]
  },
  {
   "cell_type": "code",
   "execution_count": null,
   "metadata": {},
   "outputs": [],
   "source": [
    "# Apresentar conclusões sobre riscos e lucro\n",
    "print(\"Região 0:\")\n",
    "print(f\"Lucro Médio: {bootstrap_results_0[0]:.2f}\")\n",
    "print(\n",
    "    f\"Intervalo de Confiança (95%): ({bootstrap_results_0[1]:.2f}, {bootstrap_results_0[2]:.2f})\"\n",
    ")\n",
    "print(f\"Risco de Prejuízo: {bootstrap_results_0[3]:.2f}%\\n\\n\")\n",
    "\n",
    "print(\"Região 1:\")\n",
    "print(f\"Lucro Médio: {bootstrap_results_1[0]:.2f}\")\n",
    "print(\n",
    "    f\"Intervalo de Confiança (95%): ({bootstrap_results_1[1]:.2f}, {bootstrap_results_1[2]:.2f})\"\n",
    ")\n",
    "print(f\"Risco de Prejuízo: {bootstrap_results_1[3]:.2f}%\\n\\n\")\n",
    "\n",
    "print(\"Região 2:\")\n",
    "print(f\"Lucro Médio: {bootstrap_results_2[0]:.2f}\")\n",
    "print(\n",
    "    f\"Intervalo de Confiança (95%): ({bootstrap_results_2[1]:.2f}, {bootstrap_results_2[2]:.2f})\"\n",
    ")\n",
    "print(f\"Risco de Prejuízo: {bootstrap_results_2[3]:.2f}%\")"
   ]
  },
  {
   "cell_type": "markdown",
   "metadata": {},
   "source": [
    "Com base nos resultados obtidos para cada região usando a técnica de bootstrap, podemos fazer as seguintes conclusões:\n",
    "\n",
    "- Lucro Médio:\n",
    "\n",
    "   - Região 0: O lucro médio é de aproximadamente 33.2 milhões.\n",
    "   - Região 1: A média do lucro é cerca de 24.2 milhões.\n",
    "   - Região 2: O lucro médio é em torno de 27.1 milhões.\n",
    "\n",
    "- Intervalo de Confiança (95%):\n",
    "\n",
    "    - Para todas as regiões, o intervalo de confiança (95%) é bastante restrito, indicando uma precisão considerável nos resultados do bootstrap. Isso significa que, com 95% de confiança, espera-se que o verdadeiro valor do lucro esteja dentro do intervalo fornecido.\n",
    "\n",
    "- Risco de Prejuízo:\n",
    "\n",
    "Para todas as regiões, o risco de prejuízo é relatado como 0.00%. Isso indica que, com base nas amostras bootstrap, não foram observados cenários em que o lucro foi negativo."
   ]
  },
  {
   "cell_type": "markdown",
   "metadata": {},
   "source": [
    "## 6. CONCLUSÃO"
   ]
  },
  {
   "cell_type": "markdown",
   "metadata": {},
   "source": [
    "Com base nos cálculos de lucro potencial para cada região, podemos tirar as seguintes conclusões:\n",
    "\n",
    "- Lucro Potencial:\n",
    "\n",
    "    - Região 0: O lucro potencial estimado para a região 0 é de aproximadamente 33.2 milhões.\n",
    "    - Região 1: Para a região 1, o lucro potencial é cerca de 24.2 milhões.\n",
    "    - Região 2: O lucro potencial estimado para a região 2 é em torno de 27.1 milhões.\n",
    "\n",
    "- Comparação com os Resultados do Bootstrap:\n",
    "\n",
    "    Os valores de lucro potencial obtidos diretamente do cálculo para cada região são consistentes com os resultados obtidos através da técnica de bootstrap. Ambas as abordagens indicam desempenho positivo em termos de lucro.\n",
    "\n",
    "- Ranking de Regiões em Termos de Lucro Potencial:\n",
    "\n",
    "    - A região 0 apresenta o maior lucro potencial entre as três regiões.\n",
    "    - A região 2 possui um lucro potencial ligeiramente superior à região 1.\n",
    "\n",
    "Portanto, com base nos cálculos de lucro potencial, a região 0 é a mais promissora em termos financeiros, seguida pela região 2 e, por fim, a região 1. Essas conclusões são fundamentadas na suposição de que os cálculos de lucro potencial são representativos do desempenho real das regiões em relação aos poços de petróleo."
   ]
  }
 ],
 "metadata": {
  "kernelspec": {
   "display_name": "env",
   "language": "python",
   "name": "python3"
  },
  "language_info": {
   "codemirror_mode": {
    "name": "ipython",
    "version": 3
   },
   "file_extension": ".py",
   "mimetype": "text/x-python",
   "name": "python",
   "nbconvert_exporter": "python",
   "pygments_lexer": "ipython3",
   "version": "3.11.9"
  }
 },
 "nbformat": 4,
 "nbformat_minor": 2
}
